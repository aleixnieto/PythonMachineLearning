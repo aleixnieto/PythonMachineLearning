{
 "cells": [
  {
   "cell_type": "code",
   "execution_count": 2,
   "id": "06103982",
   "metadata": {},
   "outputs": [],
   "source": [
    "# First XGBoost model for Pima Indians dataset\n",
    "import numpy as np\n",
    "from sklearn.ensemble import GradientBoostingClassifier\n",
    "from numpy import loadtxt\n",
    "from xgboost import XGBClassifier\n",
    "from sklearn.model_selection import train_test_split\n",
    "from sklearn.metrics import accuracy_score\n",
    "import pandas as pd"
   ]
  },
  {
   "cell_type": "code",
   "execution_count": 10,
   "id": "c17e4f31",
   "metadata": {},
   "outputs": [
    {
     "data": {
      "text/plain": [
       "array([[2004,  157,   30, ...,   94,    3,   71],\n",
       "       [2000,  135,   79, ...,   17,    7,   39],\n",
       "       [2007,  173,   96, ...,    0,    4,   76],\n",
       "       ...,\n",
       "       [1959,  168,   80, ...,   74,    7,   74],\n",
       "       [1959,  174,   26, ...,   54,    4,   65],\n",
       "       [1959,  133,   50, ...,   74,    3,   56]], dtype=int64)"
      ]
     },
     "execution_count": 10,
     "metadata": {},
     "output_type": "execute_result"
    }
   ],
   "source": [
    "df = pd.read_csv(\"datatrain.csv\",sep=';', header = 0)\n",
    "# split data into X and y\n",
    "df1 = df.iloc[:,[2,3,4,5,6,7,8,9,10,11,12]]\n",
    "X_train= df1.values\n",
    "y_train = df.loc[:,['Genre']].values.ravel()\n",
    "X_train"
   ]
  },
  {
   "cell_type": "code",
   "execution_count": 11,
   "id": "911f4a47",
   "metadata": {},
   "outputs": [
    {
     "data": {
      "text/plain": [
       "array([[2001,  168,   69, ...,    2,   17,   69],\n",
       "       [2002,  102,   71, ...,    6,    3,   74],\n",
       "       [2007,  112,   81, ...,    0,    3,   66],\n",
       "       ...,\n",
       "       [1969,  156,   30, ...,   63,    3,   57],\n",
       "       [1969,  197,   71, ...,    0,   10,   34],\n",
       "       [1958,  175,   76, ...,   73,    6,   69]], dtype=int64)"
      ]
     },
     "execution_count": 11,
     "metadata": {},
     "output_type": "execute_result"
    }
   ],
   "source": [
    "test = pd.read_csv(\"datatest.csv\",sep=';', header = 0)\n",
    "test1 = test.iloc[:,[2,3,4,5,6,7,8,9,10,11,12]]\n",
    "X_test= test1.values\n",
    "X_test"
   ]
  },
  {
   "cell_type": "code",
   "execution_count": 15,
   "id": "8d8f6e8d",
   "metadata": {},
   "outputs": [
    {
     "name": "stdout",
     "output_type": "stream",
     "text": [
      "[00:35:08] WARNING: C:/Users/Administrator/workspace/xgboost-win64_release_1.5.1/src/learner.cc:576: \n",
      "Parameters: { \"beta\" } might not be used.\n",
      "\n",
      "  This could be a false alarm, with some parameters getting used by language bindings but\n",
      "  then being mistakenly passed down to XGBoost core, or some parameter actually being used\n",
      "  but getting flagged wrongly here. Please open an issue if you find any such cases.\n",
      "\n",
      "\n",
      "[00:35:08] WARNING: C:/Users/Administrator/workspace/xgboost-win64_release_1.5.1/src/learner.cc:1115: Starting in XGBoost 1.3.0, the default evaluation metric used with the objective 'multi:softprob' was changed from 'merror' to 'mlogloss'. Explicitly set eval_metric if you'd like to restore the old behavior.\n"
     ]
    },
    {
     "data": {
      "text/plain": [
       "XGBClassifier(base_score=0.5, beta=0.1, booster='gbtree', colsample_bylevel=1,\n",
       "              colsample_bynode=1, colsample_bytree=1, enable_categorical=False,\n",
       "              gamma=0, gpu_id=-1, importance_type=None,\n",
       "              interaction_constraints='', learning_rate=0.300000012,\n",
       "              max_delta_step=0, max_depth=6, min_child_weight=3, missing=nan,\n",
       "              monotone_constraints='()', n_estimators=1, n_jobs=8,\n",
       "              num_parallel_tree=1, objective='multi:softprob', predictor='auto',\n",
       "              random_state=0, reg_alpha=0, reg_lambda=1, scale_pos_weight=None,\n",
       "              subsample=0.75, tree_method='exact', validate_parameters=1,\n",
       "              verbosity=None)"
      ]
     },
     "execution_count": 15,
     "metadata": {},
     "output_type": "execute_result"
    }
   ],
   "source": [
    "# fit model no training data\n",
    "model = XGBClassifier(beta=0.1, subsample = 0.75,min_child_weight =3, n_estimators=1)\n",
    "model.fit(X_train, y_train)"
   ]
  },
  {
   "cell_type": "code",
   "execution_count": 16,
   "id": "c3e3c9f6",
   "metadata": {},
   "outputs": [
    {
     "data": {
      "text/plain": [
       "array(['ROCK', 'ROCK', 'ROCK', 'ROCK', 'ROCK', 'ROCK', 'ROCK', 'ROCK',\n",
       "       'ROCK', 'ROCK', 'ROCK', 'FOLK', 'ROCK', 'ROCK', 'ROCK', 'ROCK',\n",
       "       'ROCK', 'ROCK', 'ROCK', 'ROCK', 'DUTCH', 'ROCK', 'METAL', 'ROCK',\n",
       "       'ROCK', 'ROCK', 'ROCK', 'ROCK', 'ROCK', 'ROCK', 'POP', 'ROCK',\n",
       "       'ROCK', 'ROCK', 'ROCK', 'FOLK', 'POP', 'ROCK', 'POP', 'ROCK',\n",
       "       'ALTERNATIVOS', 'ROCK', 'ROCK', 'METAL', 'DUTCH', 'DUTCH', 'ROCK',\n",
       "       'ALTERNATIVOS', 'ROCK', 'DUTCH', 'ALTERNATIVOS', 'ROCK', 'FOLK',\n",
       "       'FOLK', 'ROCK', 'ROCK', 'ROCK', 'FOLK', 'ROCK', 'POP', 'ROCK',\n",
       "       'POP', 'POP', 'ROCK', 'POP', 'ROCK', 'ROCK', 'ROCK', 'ROCK',\n",
       "       'DUTCH', 'DUTCH', 'DUTCH', 'ROCK', 'POP', 'ROCK', 'ROCK', 'ROCK',\n",
       "       'ROCK', 'ROCK', 'ALTERNATIVOS', 'DUTCH', 'ROCK', 'DUTCH',\n",
       "       'JAZZ FUNK', 'ROCK', 'DUTCH', 'ROCK', 'POP', 'ROCK', 'ROCK',\n",
       "       'DUTCH', 'ROCK', 'DUTCH', 'ROCK', 'ROCK', 'ROCK', 'ROCK', 'ROCK',\n",
       "       'DUTCH', 'POP', 'ROCK', 'DUTCH', 'DUTCH', 'ROCK', 'DUTCH', 'ROCK',\n",
       "       'ROCK', 'POP', 'ROCK', 'POP', 'ROCK', 'ROCK', 'ALTERNATIVOS',\n",
       "       'FOLK', 'POP', 'ROCK', 'POP', 'ROCK', 'ROCK', 'ROCK', 'POP',\n",
       "       'ROCK', 'ROCK', 'HIP HOP', 'ROCK', 'DUTCH', 'ROCK', 'ROCK',\n",
       "       'DUTCH', 'POP', 'FOLK', 'DUTCH', 'ROCK', 'ROCK', 'FOLK', 'POP',\n",
       "       'POP', 'POP', 'ROCK', 'POP', 'ROCK', 'POP', 'METAL', 'METAL',\n",
       "       'ALTERNATIVOS', 'FOLK', 'DUTCH', 'POP', 'DUTCH', 'METAL',\n",
       "       'DISCO ELECTRO', 'ROCK', 'ROCK', 'ALTERNATIVOS', 'ALTERNATIVOS',\n",
       "       'DUTCH', 'POP', 'DUTCH', 'DUTCH', 'ROCK', 'DUTCH', 'POP', 'METAL',\n",
       "       'ROCK', 'ROCK', 'POP', 'ROCK', 'ROCK', 'POP', 'POP', 'ROCK', 'POP',\n",
       "       'METAL', 'SOUL', 'DUTCH', 'DUTCH', 'DUTCH', 'FOLK', 'POP', 'DUTCH',\n",
       "       'SOUL', 'POP', 'ROCK', 'POP', 'DUTCH', 'ROCK', 'FOLK', 'POP',\n",
       "       'POP', 'POP', 'ROCK', 'ALTERNATIVOS', 'POP', 'DUTCH',\n",
       "       'ALTERNATIVOS', 'POP', 'POP', 'DUTCH', 'ROCK', 'METAL', 'DUTCH',\n",
       "       'DUTCH', 'DUTCH', 'ROCK', 'POP', 'ROCK', 'FOLK', 'ALTERNATIVOS',\n",
       "       'ALTERNATIVOS', 'POP', 'POP', 'ROCK', 'POP', 'POP', 'ROCK', 'POP',\n",
       "       'ROCK', 'DUTCH', 'SOUL', 'DUTCH', 'POP', 'POP', 'DUTCH', 'DUTCH',\n",
       "       'POP', 'DUTCH', 'SOUL', 'DUTCH', 'DUTCH', 'POP', 'DUTCH', 'DUTCH',\n",
       "       'POP', 'FOLK', 'POP', 'DUTCH', 'DUTCH', 'DUTCH', 'POP', 'FOLK',\n",
       "       'FOLK', 'DUTCH', 'ROCK', 'ROCK', 'ROCK', 'ROCK', 'ROCK', 'ROCK',\n",
       "       'ROCK', 'ROCK', 'ROCK', 'ROCK', 'ROCK', 'ROCK', 'ROCK', 'ROCK',\n",
       "       'ROCK', 'ROCK', 'ROCK', 'ROCK', 'ROCK', 'FOLK', 'ROCK', 'ROCK',\n",
       "       'ROCK', 'ROCK', 'ROCK', 'ROCK', 'ROCK', 'ROCK', 'ROCK', 'ROCK',\n",
       "       'ROCK', 'ROCK', 'ALTERNATIVOS', 'ROCK', 'ROCK', 'ROCK', 'ROCK',\n",
       "       'ROCK', 'ROCK', 'ROCK', 'ROCK', 'ROCK', 'ROCK', 'ROCK', 'ROCK',\n",
       "       'ROCK', 'ROCK', 'ROCK', 'ROCK', 'ROCK', 'ALTERNATIVOS', 'ROCK',\n",
       "       'ROCK', 'ROCK', 'ROCK', 'ROCK', 'ROCK', 'ROCK', 'ROCK', 'ROCK',\n",
       "       'ROCK', 'ROCK', 'ROCK', 'ROCK', 'ROCK', 'ROCK', 'ROCK', 'ROCK',\n",
       "       'ROCK', 'ROCK', 'ROCK', 'ROCK', 'ROCK', 'ALTERNATIVOS', 'ROCK',\n",
       "       'ROCK', 'ROCK', 'ROCK', 'ROCK', 'ALTERNATIVOS', 'ROCK', 'ROCK',\n",
       "       'ROCK', 'ROCK', 'ROCK', 'ROCK', 'ROCK', 'ROCK', 'ROCK', 'ROCK',\n",
       "       'ROCK', 'ROCK', 'ROCK', 'ROCK', 'ROCK', 'ROCK', 'ROCK', 'ROCK',\n",
       "       'ROCK', 'ROCK', 'ROCK', 'ROCK', 'ROCK', 'ROCK', 'ROCK', 'ROCK',\n",
       "       'ROCK', 'ROCK', 'POP', 'ROCK', 'ROCK', 'ROCK', 'ROCK', 'ROCK',\n",
       "       'ROCK', 'ROCK', 'ROCK', 'ROCK', 'ROCK', 'ROCK', 'ROCK', 'ROCK',\n",
       "       'ROCK', 'ROCK', 'ROCK', 'ROCK', 'ROCK', 'ROCK', 'ROCK', 'ROCK',\n",
       "       'ROCK', 'ROCK', 'ROCK', 'ROCK', 'ROCK', 'ROCK', 'ROCK', 'ROCK',\n",
       "       'ROCK', 'ROCK', 'ROCK', 'ROCK', 'ROCK', 'ROCK', 'ALTERNATIVOS',\n",
       "       'ROCK', 'ROCK', 'ALTERNATIVOS', 'ROCK', 'ROCK', 'ROCK', 'ROCK',\n",
       "       'ROCK', 'ROCK', 'ROCK', 'POP', 'ROCK', 'ROCK', 'ROCK', 'ROCK',\n",
       "       'ROCK', 'ROCK', 'ROCK', 'ROCK', 'ROCK', 'ROCK', 'ROCK', 'ROCK',\n",
       "       'ROCK', 'ROCK', 'ROCK', 'ROCK', 'ROCK', 'ALTERNATIVOS', 'ROCK',\n",
       "       'ROCK', 'ROCK', 'ROCK', 'ROCK', 'ROCK', 'ROCK', 'ROCK', 'ROCK',\n",
       "       'ROCK', 'ROCK', 'ROCK', 'ROCK', 'POP', 'ROCK', 'POP', 'ROCK',\n",
       "       'ROCK', 'ROCK', 'ROCK', 'ROCK', 'ROCK', 'ROCK', 'ROCK', 'ROCK',\n",
       "       'ROCK', 'ROCK', 'ROCK', 'ROCK', 'ROCK', 'ROCK', 'ROCK', 'ROCK',\n",
       "       'POP', 'ROCK', 'ROCK', 'ROCK', 'ROCK', 'ROCK', 'ROCK', 'ROCK',\n",
       "       'ROCK', 'ROCK', 'ROCK', 'ROCK', 'ROCK', 'ROCK', 'ROCK', 'ROCK',\n",
       "       'ROCK', 'ROCK', 'ROCK', 'ROCK', 'ROCK', 'ROCK', 'ROCK', 'ROCK',\n",
       "       'ROCK', 'ROCK', 'ROCK', 'ROCK', 'ROCK', 'ROCK', 'ROCK', 'ROCK',\n",
       "       'ROCK', 'ROCK', 'ROCK', 'ROCK', 'ROCK', 'ROCK', 'DUTCH', 'ROCK',\n",
       "       'ROCK', 'DUTCH', 'ROCK', 'ROCK', 'ROCK', 'DUTCH', 'ROCK', 'ROCK',\n",
       "       'ROCK', 'ROCK', 'ROCK', 'ROCK', 'ROCK', 'FOLK', 'ROCK', 'DUTCH',\n",
       "       'ROCK', 'ROCK', 'ROCK', 'ROCK', 'ROCK', 'ROCK', 'ROCK', 'DUTCH',\n",
       "       'METAL', 'POP', 'FOLK', 'ROCK', 'ROCK', 'ROCK', 'POP', 'ROCK',\n",
       "       'ROCK', 'ROCK', 'ALTERNATIVOS', 'ROCK', 'ROCK', 'ROCK', 'ROCK',\n",
       "       'POP', 'ROCK', 'JAZZ FUNK', 'POP', 'ROCK', 'METAL', 'ROCK', 'ROCK',\n",
       "       'ROCK', 'DUTCH', 'ROCK', 'CONTEMPORANEO', 'ROCK', 'ALTERNATIVOS',\n",
       "       'ROCK', 'JAZZ FUNK', 'ROCK', 'ROCK', 'METAL', 'ROCK', 'ROCK',\n",
       "       'FOLK', 'ROCK', 'FOLK', 'ALTERNATIVOS', 'ALTERNATIVOS', 'ROCK',\n",
       "       'ROCK', 'ROCK', 'ROCK', 'ALTERNATIVOS', 'ALTERNATIVOS',\n",
       "       'ALTERNATIVOS', 'ROCK', 'ALTERNATIVOS', 'ALTERNATIVOS',\n",
       "       'ALTERNATIVOS', 'ROCK', 'ROCK', 'ROCK', 'ROCK', 'ROCK', 'ROCK',\n",
       "       'ROCK', 'ROCK', 'ROCK', 'ROCK', 'ALTERNATIVOS', 'ROCK',\n",
       "       'ALTERNATIVOS', 'ALTERNATIVOS', 'ROCK', 'ROCK', 'ALTERNATIVOS',\n",
       "       'ROCK', 'ALTERNATIVOS', 'ROCK', 'ALTERNATIVOS', 'ROCK', 'ROCK',\n",
       "       'ROCK', 'ROCK', 'ROCK', 'ROCK', 'ROCK', 'ROCK', 'ROCK', 'ROCK',\n",
       "       'ROCK', 'ROCK', 'ALTERNATIVOS'], dtype=object)"
      ]
     },
     "execution_count": 16,
     "metadata": {},
     "output_type": "execute_result"
    }
   ],
   "source": [
    "# make predictions for test data\n",
    "y_pred = model.predict(X_test)\n",
    "#y_pred = np.char.add('\"', y_pred)\n",
    "#y_pred = np.char.add(y_pred,'\"')\n",
    "y_pred"
   ]
  },
  {
   "cell_type": "code",
   "execution_count": 17,
   "id": "1a7890b8",
   "metadata": {},
   "outputs": [
    {
     "data": {
      "text/html": [
       "<div>\n",
       "<style scoped>\n",
       "    .dataframe tbody tr th:only-of-type {\n",
       "        vertical-align: middle;\n",
       "    }\n",
       "\n",
       "    .dataframe tbody tr th {\n",
       "        vertical-align: top;\n",
       "    }\n",
       "\n",
       "    .dataframe thead th {\n",
       "        text-align: right;\n",
       "    }\n",
       "</style>\n",
       "<table border=\"1\" class=\"dataframe\">\n",
       "  <thead>\n",
       "    <tr style=\"text-align: right;\">\n",
       "      <th></th>\n",
       "      <th>Genre</th>\n",
       "    </tr>\n",
       "    <tr>\n",
       "      <th>id</th>\n",
       "      <th></th>\n",
       "    </tr>\n",
       "  </thead>\n",
       "  <tbody>\n",
       "    <tr>\n",
       "      <th>1</th>\n",
       "      <td>ROCK</td>\n",
       "    </tr>\n",
       "    <tr>\n",
       "      <th>2</th>\n",
       "      <td>ROCK</td>\n",
       "    </tr>\n",
       "    <tr>\n",
       "      <th>3</th>\n",
       "      <td>ROCK</td>\n",
       "    </tr>\n",
       "    <tr>\n",
       "      <th>4</th>\n",
       "      <td>ROCK</td>\n",
       "    </tr>\n",
       "    <tr>\n",
       "      <th>5</th>\n",
       "      <td>ROCK</td>\n",
       "    </tr>\n",
       "    <tr>\n",
       "      <th>...</th>\n",
       "      <td>...</td>\n",
       "    </tr>\n",
       "    <tr>\n",
       "      <th>595</th>\n",
       "      <td>ROCK</td>\n",
       "    </tr>\n",
       "    <tr>\n",
       "      <th>596</th>\n",
       "      <td>ROCK</td>\n",
       "    </tr>\n",
       "    <tr>\n",
       "      <th>597</th>\n",
       "      <td>ROCK</td>\n",
       "    </tr>\n",
       "    <tr>\n",
       "      <th>598</th>\n",
       "      <td>ROCK</td>\n",
       "    </tr>\n",
       "    <tr>\n",
       "      <th>599</th>\n",
       "      <td>ALTERNATIVOS</td>\n",
       "    </tr>\n",
       "  </tbody>\n",
       "</table>\n",
       "<p>599 rows × 1 columns</p>\n",
       "</div>"
      ],
      "text/plain": [
       "            Genre\n",
       "id               \n",
       "1            ROCK\n",
       "2            ROCK\n",
       "3            ROCK\n",
       "4            ROCK\n",
       "5            ROCK\n",
       "..            ...\n",
       "595          ROCK\n",
       "596          ROCK\n",
       "597          ROCK\n",
       "598          ROCK\n",
       "599  ALTERNATIVOS\n",
       "\n",
       "[599 rows x 1 columns]"
      ]
     },
     "execution_count": 17,
     "metadata": {},
     "output_type": "execute_result"
    }
   ],
   "source": [
    "A=['Genre']\n",
    "df=pd.DataFrame(y_pred, columns=A)\n",
    "df.index=test.loc[:,'id']\n",
    "df"
   ]
  },
  {
   "cell_type": "code",
   "execution_count": 18,
   "id": "3ea78da6",
   "metadata": {},
   "outputs": [],
   "source": [
    "df.to_csv(r'C:\\Users\\garys\\Desktop\\MINERIA DE DADES\\final.csv', index = False)"
   ]
  },
  {
   "cell_type": "code",
   "execution_count": 68,
   "id": "b4e7fdf7",
   "metadata": {},
   "outputs": [],
   "source": [
    "#predictions = [value for value in y_pred]\n",
    "# evaluate predictions\n",
    "#accuracy = accuracy_score(y_test, predictions)\n",
    "#print(\"Accuracy: %.2f%%\" % (accuracy * 100.0))"
   ]
  },
  {
   "cell_type": "code",
   "execution_count": null,
   "id": "38189f9d",
   "metadata": {},
   "outputs": [],
   "source": []
  }
 ],
 "metadata": {
  "kernelspec": {
   "display_name": "Python 3 (ipykernel)",
   "language": "python",
   "name": "python3"
  },
  "language_info": {
   "codemirror_mode": {
    "name": "ipython",
    "version": 3
   },
   "file_extension": ".py",
   "mimetype": "text/x-python",
   "name": "python",
   "nbconvert_exporter": "python",
   "pygments_lexer": "ipython3",
   "version": "3.9.7"
  }
 },
 "nbformat": 4,
 "nbformat_minor": 5
}
