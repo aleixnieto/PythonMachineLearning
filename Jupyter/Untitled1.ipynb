{
 "cells": [
  {
   "cell_type": "code",
   "execution_count": 87,
   "id": "f5e8131c",
   "metadata": {},
   "outputs": [
    {
     "data": {
      "text/plain": [
       "array([[2004,  157,   30, ...,    3,   71,    1],\n",
       "       [2000,  135,   79, ...,    7,   39,    2],\n",
       "       [2007,  173,   96, ...,    4,   76,    3],\n",
       "       ...,\n",
       "       [1959,  168,   80, ...,    7,   74, 1393],\n",
       "       [1959,  174,   26, ...,    4,   65, 1394],\n",
       "       [1959,  133,   50, ...,    3,   56, 1395]], dtype=int64)"
      ]
     },
     "execution_count": 87,
     "metadata": {},
     "output_type": "execute_result"
    }
   ],
   "source": [
    "from sklearn import svm\n",
    "import pandas as pd\n",
    "input_file = \"datatrain.csv\"\n",
    "test= \"datatest.csv\"\n",
    "\n",
    "# comma delimited is the default\n",
    "df = pd.read_csv(input_file,sep=';', header = 0)\n",
    "datatest= pd.read_csv(input_file,sep=';', header = 0)\n",
    "# for space delimited use:\n",
    "# df = pd.read_csv(input_file, header = 0, delimiter = \" \")\n",
    "\n",
    "# for tab delimited use:\n",
    "# df = pd.read_csv(input_file, header = 0, delimiter = \"\\t\")\n",
    "\n",
    "# put the original column names in a python list\n",
    "original_headers = list(df.columns.values)\n",
    "\n",
    "# remove the non-numeric columns\n",
    "df1 = df._get_numeric_data()\n",
    "\n",
    "\n",
    "# put the numeric column names in a python list\n",
    "numeric_headers = list(df1.columns.values)\n",
    "\n",
    "# create a numpy array with the numeric values for input into scikit-learn\n",
    "numpy_array = df1.values\n",
    "numpy_array"
   ]
  },
  {
   "cell_type": "code",
   "execution_count": 6,
   "id": "bc0e7871",
   "metadata": {},
   "outputs": [
    {
     "data": {
      "text/plain": [
       "array(['ALTERNATIVOS', 'ROCK', 'METAL', ..., 'ROCK', 'JAZZ FUNK',\n",
       "       'ALTERNATIVOS'], dtype=object)"
      ]
     },
     "execution_count": 6,
     "metadata": {},
     "output_type": "execute_result"
    }
   ],
   "source": [
    "Y=df.loc[:,['Genre']]\n",
    "# Previously train_y was a Series, now it's numpy array (it is a column-vector).\n",
    "# If I apply train_y.ravel(), then it becomes a row vector and no error message appears\n",
    "Y = Y.values.ravel()\n",
    "Y "
   ]
  },
  {
   "cell_type": "code",
   "execution_count": null,
   "id": "61f30156",
   "metadata": {},
   "outputs": [],
   "source": [
    "from sklearn.model_selection import train_test_split\n",
    "X_train, X_test, y_train, y_test = train_test_split(numpy_array, Y, test_size=0.3)"
   ]
  },
  {
   "cell_type": "code",
   "execution_count": null,
   "id": "4ea39c4a",
   "metadata": {},
   "outputs": [],
   "source": [
    "model = RandomForestClassifier(n_estimators=10000)\n",
    "model.fit(X_train,y_train)\n",
    "model.score(X_test, y_test)"
   ]
  },
  {
   "cell_type": "code",
   "execution_count": null,
   "id": "64e58370",
   "metadata": {},
   "outputs": [],
   "source": [
    "model = LogisticRegression(C=5, solver='liblinear',multi_class='auto')\n",
    "model.fit(X_train,y_train)\n",
    "model.score(X_test, y_test)"
   ]
  },
  {
   "cell_type": "code",
   "execution_count": 10,
   "id": "97a4ae98",
   "metadata": {},
   "outputs": [],
   "source": [
    "# XGBOOST\n",
    "import xgboost as xgb\n",
    "from sklearn.metrics import mean_squared_error\n",
    "import pandas as pd\n",
    "import numpy as np"
   ]
  },
  {
   "cell_type": "code",
   "execution_count": 13,
   "id": "a77d17ea",
   "metadata": {},
   "outputs": [
    {
     "data": {
      "text/plain": [
       "<xgboost.core.DMatrix at 0x24937322af0>"
      ]
     },
     "execution_count": 13,
     "metadata": {},
     "output_type": "execute_result"
    }
   ],
   "source": [
    "X, y = df.iloc[:,2:13],df.iloc[:,14]\n",
    "data_dmatrix = xgb.DMatrix(data=X,label=y)"
   ]
  },
  {
   "cell_type": "code",
   "execution_count": 90,
   "id": "5ee639ef",
   "metadata": {},
   "outputs": [
    {
     "data": {
      "text/html": [
       "<div>\n",
       "<style scoped>\n",
       "    .dataframe tbody tr th:only-of-type {\n",
       "        vertical-align: middle;\n",
       "    }\n",
       "\n",
       "    .dataframe tbody tr th {\n",
       "        vertical-align: top;\n",
       "    }\n",
       "\n",
       "    .dataframe thead th {\n",
       "        text-align: right;\n",
       "    }\n",
       "</style>\n",
       "<table border=\"1\" class=\"dataframe\">\n",
       "  <thead>\n",
       "    <tr style=\"text-align: right;\">\n",
       "      <th></th>\n",
       "      <th>Year</th>\n",
       "      <th>Beats</th>\n",
       "      <th>Energy</th>\n",
       "      <th>Danceability</th>\n",
       "      <th>Loudness</th>\n",
       "      <th>Liveness</th>\n",
       "      <th>Valence</th>\n",
       "      <th>Duration</th>\n",
       "      <th>Acousticness</th>\n",
       "      <th>Speechiness</th>\n",
       "      <th>Popularity</th>\n",
       "    </tr>\n",
       "  </thead>\n",
       "  <tbody>\n",
       "    <tr>\n",
       "      <th>61</th>\n",
       "      <td>2004</td>\n",
       "      <td>79</td>\n",
       "      <td>60</td>\n",
       "      <td>56</td>\n",
       "      <td>-7</td>\n",
       "      <td>38</td>\n",
       "      <td>44</td>\n",
       "      <td>210</td>\n",
       "      <td>18</td>\n",
       "      <td>3</td>\n",
       "      <td>58</td>\n",
       "    </tr>\n",
       "    <tr>\n",
       "      <th>1241</th>\n",
       "      <td>1998</td>\n",
       "      <td>110</td>\n",
       "      <td>89</td>\n",
       "      <td>60</td>\n",
       "      <td>-9</td>\n",
       "      <td>17</td>\n",
       "      <td>53</td>\n",
       "      <td>323</td>\n",
       "      <td>10</td>\n",
       "      <td>5</td>\n",
       "      <td>44</td>\n",
       "    </tr>\n",
       "    <tr>\n",
       "      <th>1339</th>\n",
       "      <td>1967</td>\n",
       "      <td>132</td>\n",
       "      <td>58</td>\n",
       "      <td>50</td>\n",
       "      <td>-9</td>\n",
       "      <td>32</td>\n",
       "      <td>65</td>\n",
       "      <td>175</td>\n",
       "      <td>41</td>\n",
       "      <td>3</td>\n",
       "      <td>69</td>\n",
       "    </tr>\n",
       "    <tr>\n",
       "      <th>598</th>\n",
       "      <td>1971</td>\n",
       "      <td>104</td>\n",
       "      <td>51</td>\n",
       "      <td>38</td>\n",
       "      <td>-15</td>\n",
       "      <td>54</td>\n",
       "      <td>40</td>\n",
       "      <td>355</td>\n",
       "      <td>1</td>\n",
       "      <td>5</td>\n",
       "      <td>55</td>\n",
       "    </tr>\n",
       "    <tr>\n",
       "      <th>898</th>\n",
       "      <td>1984</td>\n",
       "      <td>79</td>\n",
       "      <td>27</td>\n",
       "      <td>34</td>\n",
       "      <td>-16</td>\n",
       "      <td>26</td>\n",
       "      <td>14</td>\n",
       "      <td>210</td>\n",
       "      <td>61</td>\n",
       "      <td>3</td>\n",
       "      <td>44</td>\n",
       "    </tr>\n",
       "    <tr>\n",
       "      <th>...</th>\n",
       "      <td>...</td>\n",
       "      <td>...</td>\n",
       "      <td>...</td>\n",
       "      <td>...</td>\n",
       "      <td>...</td>\n",
       "      <td>...</td>\n",
       "      <td>...</td>\n",
       "      <td>...</td>\n",
       "      <td>...</td>\n",
       "      <td>...</td>\n",
       "      <td>...</td>\n",
       "    </tr>\n",
       "    <tr>\n",
       "      <th>328</th>\n",
       "      <td>2011</td>\n",
       "      <td>88</td>\n",
       "      <td>40</td>\n",
       "      <td>37</td>\n",
       "      <td>-13</td>\n",
       "      <td>8</td>\n",
       "      <td>27</td>\n",
       "      <td>189</td>\n",
       "      <td>4</td>\n",
       "      <td>3</td>\n",
       "      <td>27</td>\n",
       "    </tr>\n",
       "    <tr>\n",
       "      <th>1155</th>\n",
       "      <td>1995</td>\n",
       "      <td>94</td>\n",
       "      <td>77</td>\n",
       "      <td>53</td>\n",
       "      <td>-6</td>\n",
       "      <td>26</td>\n",
       "      <td>45</td>\n",
       "      <td>212</td>\n",
       "      <td>1</td>\n",
       "      <td>3</td>\n",
       "      <td>24</td>\n",
       "    </tr>\n",
       "    <tr>\n",
       "      <th>134</th>\n",
       "      <td>2000</td>\n",
       "      <td>159</td>\n",
       "      <td>64</td>\n",
       "      <td>52</td>\n",
       "      <td>-5</td>\n",
       "      <td>17</td>\n",
       "      <td>32</td>\n",
       "      <td>272</td>\n",
       "      <td>39</td>\n",
       "      <td>2</td>\n",
       "      <td>52</td>\n",
       "    </tr>\n",
       "    <tr>\n",
       "      <th>1049</th>\n",
       "      <td>1990</td>\n",
       "      <td>81</td>\n",
       "      <td>42</td>\n",
       "      <td>15</td>\n",
       "      <td>-12</td>\n",
       "      <td>21</td>\n",
       "      <td>17</td>\n",
       "      <td>273</td>\n",
       "      <td>43</td>\n",
       "      <td>3</td>\n",
       "      <td>69</td>\n",
       "    </tr>\n",
       "    <tr>\n",
       "      <th>1126</th>\n",
       "      <td>1993</td>\n",
       "      <td>113</td>\n",
       "      <td>63</td>\n",
       "      <td>45</td>\n",
       "      <td>-12</td>\n",
       "      <td>9</td>\n",
       "      <td>36</td>\n",
       "      <td>233</td>\n",
       "      <td>8</td>\n",
       "      <td>3</td>\n",
       "      <td>67</td>\n",
       "    </tr>\n",
       "  </tbody>\n",
       "</table>\n",
       "<p>279 rows × 11 columns</p>\n",
       "</div>"
      ],
      "text/plain": [
       "      Year  Beats  Energy  Danceability  Loudness  Liveness  Valence  \\\n",
       "61    2004     79      60            56        -7        38       44   \n",
       "1241  1998    110      89            60        -9        17       53   \n",
       "1339  1967    132      58            50        -9        32       65   \n",
       "598   1971    104      51            38       -15        54       40   \n",
       "898   1984     79      27            34       -16        26       14   \n",
       "...    ...    ...     ...           ...       ...       ...      ...   \n",
       "328   2011     88      40            37       -13         8       27   \n",
       "1155  1995     94      77            53        -6        26       45   \n",
       "134   2000    159      64            52        -5        17       32   \n",
       "1049  1990     81      42            15       -12        21       17   \n",
       "1126  1993    113      63            45       -12         9       36   \n",
       "\n",
       "      Duration  Acousticness  Speechiness  Popularity  \n",
       "61         210            18            3          58  \n",
       "1241       323            10            5          44  \n",
       "1339       175            41            3          69  \n",
       "598        355             1            5          55  \n",
       "898        210            61            3          44  \n",
       "...        ...           ...          ...         ...  \n",
       "328        189             4            3          27  \n",
       "1155       212             1            3          24  \n",
       "134        272            39            2          52  \n",
       "1049       273            43            3          69  \n",
       "1126       233             8            3          67  \n",
       "\n",
       "[279 rows x 11 columns]"
      ]
     },
     "execution_count": 90,
     "metadata": {},
     "output_type": "execute_result"
    }
   ],
   "source": [
    "from sklearn.model_selection import train_test_split\n",
    "\n",
    "X_train, X_test, y_train, y_test = train_test_split(X, y, test_size=0.2, random_state=123)\n",
    "X_test"
   ]
  },
  {
   "cell_type": "code",
   "execution_count": 79,
   "id": "f743f6af",
   "metadata": {},
   "outputs": [],
   "source": [
    "xg_reg = xgb.XGBRegressor(objective ='reg:linear', colsample_bytree = 0.3, learning_rate = 0.8,\n",
    "                max_depth = 5, alpha = 10, n_estimators = 10)"
   ]
  },
  {
   "cell_type": "code",
   "execution_count": 91,
   "id": "74f41999",
   "metadata": {},
   "outputs": [
    {
     "name": "stdout",
     "output_type": "stream",
     "text": [
      "[21:51:28] WARNING: C:/Users/Administrator/workspace/xgboost-win64_release_1.5.1/src/objective/regression_obj.cu:188: reg:linear is now deprecated in favor of reg:squarederror.\n"
     ]
    },
    {
     "data": {
      "text/plain": [
       "array([ 139.00084 , 1173.9576  , 1267.5643  ,  586.98016 ,  925.472   ,\n",
       "         94.36923 ,  735.8756  ,  827.765   ,  402.51968 ,  -36.29017 ,\n",
       "        861.9528  ,  446.3998  ,  285.2844  , 1013.4107  ,  149.04884 ,\n",
       "        752.91534 ,  257.11325 , 1315.2239  ,  423.674   ,  967.25037 ,\n",
       "       1179.7942  , 1053.2106  ,  551.7792  ,  892.70355 ,  842.49664 ,\n",
       "        304.54135 , 1078.157   , 1202.0809  ,  306.2697  ,  674.11163 ,\n",
       "       1151.7052  ,  820.3652  ,  358.63083 ,  552.20013 ,  699.4864  ,\n",
       "        194.09634 ,  151.38428 ,  143.96419 ,  472.67987 ,  847.8731  ,\n",
       "       1118.9429  ,   98.40988 ,  874.2532  ,   70.60355 ,  405.97766 ,\n",
       "        822.00977 ,  442.8779  ,  646.0194  , 1230.9805  , 1242.8129  ,\n",
       "       1373.9833  ,  386.13782 , 1012.1003  ,  329.87103 , 1220.3809  ,\n",
       "        233.02177 ,  603.1043  , 1103.1396  ,  193.73973 , 1333.6196  ,\n",
       "        381.59116 ,  160.42049 ,   74.48572 ,  367.99323 , 1262.5604  ,\n",
       "       1209.3912  , 1059.3877  , 1048.0862  ,   58.026352, 1312.7748  ,\n",
       "        321.2594  ,  778.6745  ,  784.53564 ,  838.71466 ,  823.0068  ,\n",
       "        174.89697 ,  529.7928  , 1337.1028  ,  133.00635 ,  740.44794 ,\n",
       "       1261.84    ,  392.26657 , 1232.4657  ,  101.05884 , 1227.9641  ,\n",
       "        463.02667 , 1095.4026  ,  349.4212  ,  794.5134  ,  990.52924 ,\n",
       "        398.6104  ,  975.77045 ,  714.72845 ,  903.28125 , 1286.7921  ,\n",
       "        670.6412  , 1206.1793  ,  182.58223 ,  575.0881  ,  742.6893  ,\n",
       "       1247.5007  ,  624.3081  , 1008.42    ,  705.5762  ,  906.95135 ,\n",
       "        342.98175 , 1351.2521  ,  883.12134 ,  794.53314 , 1331.8585  ,\n",
       "        154.9825  ,  373.79593 ,  981.1858  ,  900.8873  ,  285.24698 ,\n",
       "        597.50305 ,   60.758743,  155.43147 ,  912.0329  ,  691.04974 ,\n",
       "        783.7879  ,  856.34424 ,  507.81403 , 1312.2838  ,  465.85654 ,\n",
       "        799.0456  ,  367.5657  ,  948.4361  ,  871.98096 ,  758.6623  ,\n",
       "       1010.7413  ,  751.99115 ,  107.35669 ,  955.5901  ,  668.06665 ,\n",
       "         94.495285, 1334.7075  , 1241.443   ,  935.3039  ,  934.0796  ,\n",
       "        585.7763  ,  922.8227  , 1113.7666  ,  938.0804  , 1046.7186  ,\n",
       "       1283.974   , 1208.0823  , 1242.4792  ,  301.34375 ,   63.233273,\n",
       "        731.14343 ,  149.64171 ,  139.00084 ,  783.4215  ,  985.18274 ,\n",
       "        416.79782 ,  850.68225 ,  684.05365 ,  760.40497 ,  152.52295 ,\n",
       "        291.84415 ,  236.04523 ,  232.28053 , 1307.6288  , 1104.6677  ,\n",
       "        235.11606 ,  199.72263 ,  405.7611  ,  981.52826 ,  943.1001  ,\n",
       "        283.36542 ,  100.81517 ,  934.2059  ,  583.6643  ,  144.25774 ,\n",
       "        730.1741  ,  445.14276 ,   70.04109 ,  241.4126  ,  596.80853 ,\n",
       "        645.68427 ,  766.66064 ,  104.529144,  851.2406  ,  308.63794 ,\n",
       "        600.95465 ,  180.07202 ,  635.0571  , 1260.3123  ,  836.4696  ,\n",
       "        271.98672 ,  646.4157  ,  143.59752 , 1127.1317  , 1322.8306  ,\n",
       "       1128.8583  ,  760.76373 ,  893.0958  , 1249.8767  ,  757.02234 ,\n",
       "        681.8208  ,  968.4965  ,  739.6176  ,  365.87106 ,  211.0784  ,\n",
       "        268.01718 ,  277.19202 ,  583.52454 , 1292.4545  ,  363.23248 ,\n",
       "        173.55432 , 1178.718   , 1300.1006  ,  282.28735 ,  954.0975  ,\n",
       "        714.48035 ,  258.29608 ,  726.5294  ,  371.7871  ,  933.05865 ,\n",
       "        821.2504  , 1230.8455  ,  752.4288  ,  908.74786 ,   53.367462,\n",
       "        677.2337  ,  172.85976 ,  600.0615  ,  786.0359  ,  548.40735 ,\n",
       "        476.8341  ,  454.31625 ,  803.30133 ,  837.6607  ,  497.42917 ,\n",
       "        668.922   ,  392.3229  ,  188.66139 ,  552.22565 ,  634.90283 ,\n",
       "        798.6088  ,  632.6069  ,  703.4003  ,  812.2633  ,  682.5339  ,\n",
       "        984.8244  ,  475.3202  ,  473.47827 ,  778.7065  ,  180.58118 ,\n",
       "        998.3997  ,  486.5948  ,  945.1185  ,  389.23712 ,  722.91077 ,\n",
       "        343.96503 ,  339.54233 , 1042.4669  ,  914.98047 , 1137.5731  ,\n",
       "        895.255   ,  174.10301 ,  914.5739  , 1088.2828  ,  379.20996 ,\n",
       "       1237.0759  ,  775.3775  ,  548.8886  ,  960.11694 ,  583.73315 ,\n",
       "       1145.672   , 1015.1439  , 1324.2551  , 1281.0096  ,  390.11404 ,\n",
       "       1142.6943  ,   72.01222 ,  860.6374  , 1034.8267  ], dtype=float32)"
      ]
     },
     "execution_count": 91,
     "metadata": {},
     "output_type": "execute_result"
    }
   ],
   "source": [
    "xg_reg.fit(X_train,y_train)\n",
    "preds = xg_reg.predict(X_test)\n",
    "preds"
   ]
  },
  {
   "cell_type": "code",
   "execution_count": 92,
   "id": "b7eb97b3",
   "metadata": {},
   "outputs": [
    {
     "name": "stdout",
     "output_type": "stream",
     "text": [
      "RMSE: 91.352054\n"
     ]
    }
   ],
   "source": [
    "rmse = np.sqrt(mean_squared_error(y_test, preds))\n",
    "print(\"RMSE: %f\" % (rmse))"
   ]
  },
  {
   "cell_type": "code",
   "execution_count": 83,
   "id": "a3624e1a",
   "metadata": {},
   "outputs": [
    {
     "name": "stdout",
     "output_type": "stream",
     "text": [
      "[21:11:13] WARNING: C:/Users/Administrator/workspace/xgboost-win64_release_1.5.1/src/objective/regression_obj.cu:188: reg:linear is now deprecated in favor of reg:squarederror.\n",
      "[21:11:13] WARNING: C:/Users/Administrator/workspace/xgboost-win64_release_1.5.1/src/objective/regression_obj.cu:188: reg:linear is now deprecated in favor of reg:squarederror.\n",
      "[21:11:13] WARNING: C:/Users/Administrator/workspace/xgboost-win64_release_1.5.1/src/objective/regression_obj.cu:188: reg:linear is now deprecated in favor of reg:squarederror.\n"
     ]
    },
    {
     "data": {
      "text/html": [
       "<div>\n",
       "<style scoped>\n",
       "    .dataframe tbody tr th:only-of-type {\n",
       "        vertical-align: middle;\n",
       "    }\n",
       "\n",
       "    .dataframe tbody tr th {\n",
       "        vertical-align: top;\n",
       "    }\n",
       "\n",
       "    .dataframe thead th {\n",
       "        text-align: right;\n",
       "    }\n",
       "</style>\n",
       "<table border=\"1\" class=\"dataframe\">\n",
       "  <thead>\n",
       "    <tr style=\"text-align: right;\">\n",
       "      <th></th>\n",
       "      <th>train-rmse-mean</th>\n",
       "      <th>train-rmse-std</th>\n",
       "      <th>test-rmse-mean</th>\n",
       "      <th>test-rmse-std</th>\n",
       "    </tr>\n",
       "  </thead>\n",
       "  <tbody>\n",
       "    <tr>\n",
       "      <th>0</th>\n",
       "      <td>743.109721</td>\n",
       "      <td>4.596431</td>\n",
       "      <td>745.356506</td>\n",
       "      <td>10.733424</td>\n",
       "    </tr>\n",
       "    <tr>\n",
       "      <th>1</th>\n",
       "      <td>682.738200</td>\n",
       "      <td>6.545162</td>\n",
       "      <td>687.291443</td>\n",
       "      <td>19.337416</td>\n",
       "    </tr>\n",
       "    <tr>\n",
       "      <th>2</th>\n",
       "      <td>621.105367</td>\n",
       "      <td>3.846546</td>\n",
       "      <td>626.095805</td>\n",
       "      <td>9.862808</td>\n",
       "    </tr>\n",
       "    <tr>\n",
       "      <th>3</th>\n",
       "      <td>577.232300</td>\n",
       "      <td>3.146635</td>\n",
       "      <td>584.975260</td>\n",
       "      <td>10.458066</td>\n",
       "    </tr>\n",
       "    <tr>\n",
       "      <th>4</th>\n",
       "      <td>538.857015</td>\n",
       "      <td>2.787168</td>\n",
       "      <td>548.279704</td>\n",
       "      <td>10.188455</td>\n",
       "    </tr>\n",
       "  </tbody>\n",
       "</table>\n",
       "</div>"
      ],
      "text/plain": [
       "   train-rmse-mean  train-rmse-std  test-rmse-mean  test-rmse-std\n",
       "0       743.109721        4.596431      745.356506      10.733424\n",
       "1       682.738200        6.545162      687.291443      19.337416\n",
       "2       621.105367        3.846546      626.095805       9.862808\n",
       "3       577.232300        3.146635      584.975260      10.458066\n",
       "4       538.857015        2.787168      548.279704      10.188455"
      ]
     },
     "execution_count": 83,
     "metadata": {},
     "output_type": "execute_result"
    }
   ],
   "source": [
    "params = {\"objective\":\"reg:linear\",'colsample_bytree': 0.3,'learning_rate': 0.1,\n",
    "                'max_depth': 5, 'alpha': 10}\n",
    "\n",
    "cv_results = xgb.cv(dtrain=data_dmatrix, params=params, nfold=3,\n",
    "                    num_boost_round=50,early_stopping_rounds=10,metrics=\"rmse\", as_pandas=True, seed=123)\n",
    "cv_results.head()"
   ]
  },
  {
   "cell_type": "code",
   "execution_count": 84,
   "id": "9bb1195d",
   "metadata": {},
   "outputs": [
    {
     "name": "stdout",
     "output_type": "stream",
     "text": [
      "49    118.260831\n",
      "Name: test-rmse-mean, dtype: float64\n"
     ]
    }
   ],
   "source": [
    "print((cv_results[\"test-rmse-mean\"]).tail(1))"
   ]
  },
  {
   "cell_type": "code",
   "execution_count": 85,
   "id": "f99c8f8e",
   "metadata": {},
   "outputs": [
    {
     "ename": "NameError",
     "evalue": "name 'plt' is not defined",
     "output_type": "error",
     "traceback": [
      "\u001b[1;31m---------------------------------------------------------------------------\u001b[0m",
      "\u001b[1;31mNameError\u001b[0m                                 Traceback (most recent call last)",
      "\u001b[1;32m~\\AppData\\Local\\Temp/ipykernel_14176/3892591555.py\u001b[0m in \u001b[0;36m<module>\u001b[1;34m\u001b[0m\n\u001b[0;32m      1\u001b[0m \u001b[0mxgb\u001b[0m\u001b[1;33m.\u001b[0m\u001b[0mplot_importance\u001b[0m\u001b[1;33m(\u001b[0m\u001b[0mxg_reg\u001b[0m\u001b[1;33m)\u001b[0m\u001b[1;33m\u001b[0m\u001b[1;33m\u001b[0m\u001b[0m\n\u001b[1;32m----> 2\u001b[1;33m \u001b[0mplt\u001b[0m\u001b[1;33m.\u001b[0m\u001b[0mrcParams\u001b[0m\u001b[1;33m[\u001b[0m\u001b[1;34m'figure.figsize'\u001b[0m\u001b[1;33m]\u001b[0m \u001b[1;33m=\u001b[0m \u001b[1;33m[\u001b[0m\u001b[1;36m5\u001b[0m\u001b[1;33m,\u001b[0m \u001b[1;36m5\u001b[0m\u001b[1;33m]\u001b[0m\u001b[1;33m\u001b[0m\u001b[1;33m\u001b[0m\u001b[0m\n\u001b[0m\u001b[0;32m      3\u001b[0m \u001b[0mplt\u001b[0m\u001b[1;33m.\u001b[0m\u001b[0mshow\u001b[0m\u001b[1;33m(\u001b[0m\u001b[1;33m)\u001b[0m\u001b[1;33m\u001b[0m\u001b[1;33m\u001b[0m\u001b[0m\n",
      "\u001b[1;31mNameError\u001b[0m: name 'plt' is not defined"
     ]
    },
    {
     "data": {
      "image/png": "[encoded data removed]",
      "text/plain": [
       "<Figure size 432x288 with 1 Axes>"
      ]
     },
     "metadata": {
      "needs_background": "light"
     },
     "output_type": "display_data"
    }
   ],
   "source": [
    "xgb.plot_importance(xg_reg)\n",
    "plt.rcParams['figure.figsize'] = [5, 5]\n",
    "plt.show()"
   ]
  },
  {
   "cell_type": "code",
   "execution_count": null,
   "id": "06cecb2f",
   "metadata": {},
   "outputs": [],
   "source": [
    "Xnew = [[...], [...]]\n",
    "ynew = model.predict(Xnew)"
   ]
  },
  {
   "cell_type": "code",
   "execution_count": null,
   "id": "a858466f",
   "metadata": {},
   "outputs": [],
   "source": [
    "model = svm.SVC(kernel= 'linear', C=1, gamma='auto')\n",
    "model.fit(X_train,y_train)\n",
    "model.score(X_test, y_test)"
   ]
  },
  {
   "cell_type": "code",
   "execution_count": null,
   "id": "b56120c3",
   "metadata": {},
   "outputs": [],
   "source": [
    "from sklearn import svm\n",
    "from sklearn.ensemble import RandomForestClassifier\n",
    "from sklearn.linear_model import LogisticRegression\n",
    "\n",
    "model_params = {\n",
    "    'svm': {\n",
    "        'model': svm.SVC(gamma='auto'),\n",
    "        'params' : {\n",
    "            'C': [1,10,20],\n",
    "            'kernel': ['rbf','linear']\n",
    "        }  \n",
    "    },\n",
    "    'random_forest': {\n",
    "        'model': RandomForestClassifier(),\n",
    "        'params' : {\n",
    "            'n_estimators': [1,5,10]\n",
    "        }\n",
    "    },\n",
    "    'logistic_regression' : {\n",
    "        'model': LogisticRegression(solver='liblinear',multi_class='auto'),\n",
    "        'params': {\n",
    "            'C': [1,5,10]\n",
    "        }\n",
    "    }\n",
    "}"
   ]
  },
  {
   "cell_type": "code",
   "execution_count": null,
   "id": "854d32c7",
   "metadata": {},
   "outputs": [],
   "source": [
    "from sklearn.model_selection import GridSearchCV\n",
    "import pandas as pd\n",
    "scores = []\n",
    "\n",
    "for model_name, mp in model_params.items():\n",
    "    clf =  GridSearchCV(mp['model'], mp['params'], cv=5, return_train_score=False)\n",
    "    clf.fit(numpy_array, Y)\n",
    "    scores.append({\n",
    "        'model': model_name,\n",
    "        'best_score': clf.best_score_,\n",
    "        'best_params': clf.best_params_\n",
    "    })\n",
    "    \n"
   ]
  },
  {
   "cell_type": "code",
   "execution_count": null,
   "id": "4825bc19",
   "metadata": {},
   "outputs": [],
   "source": [
    "df = pd.DataFrame(scores,columns=['model','best_score','best_params'])\n",
    "df"
   ]
  },
  {
   "cell_type": "code",
   "execution_count": null,
   "id": "09ddaa43",
   "metadata": {},
   "outputs": [],
   "source": []
  }
 ],
 "metadata": {
  "kernelspec": {
   "display_name": "Python 3 (ipykernel)",
   "language": "python",
   "name": "python3"
  },
  "language_info": {
   "codemirror_mode": {
    "name": "ipython",
    "version": 3
   },
   "file_extension": ".py",
   "mimetype": "text/x-python",
   "name": "python",
   "nbconvert_exporter": "python",
   "pygments_lexer": "ipython3",
   "version": "3.9.7"
  }
 },
 "nbformat": 4,
 "nbformat_minor": 5
}
